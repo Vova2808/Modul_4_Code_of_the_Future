{
  "cells": [
    {
      "cell_type": "markdown",
      "source": [
        "<h1>Обучение нейронной сети на наборе данных MNIST с использованием TensorFlow"
      ],
      "metadata": {
        "id": "l8_HGt1TyLtN"
      },
      "id": "l8_HGt1TyLtN"
    },
    {
      "cell_type": "code",
      "execution_count": null,
      "id": "19274461",
      "metadata": {
        "_cell_guid": "b1076dfc-b9ad-4769-8c92-a6c4dae69d19",
        "_uuid": "8f2839f25d086af736a60e9eeb907d3b93b6e0e5",
        "execution": {
          "iopub.execute_input": "2022-05-31T07:19:35.381608Z",
          "iopub.status.busy": "2022-05-31T07:19:35.381025Z",
          "iopub.status.idle": "2022-05-31T07:19:35.394922Z",
          "shell.execute_reply": "2022-05-31T07:19:35.393902Z"
        },
        "papermill": {
          "duration": 0.055091,
          "end_time": "2022-05-31T07:19:35.397345",
          "exception": false,
          "start_time": "2022-05-31T07:19:35.342254",
          "status": "completed"
        },
        "tags": [],
        "id": "19274461"
      },
      "outputs": [],
      "source": [
        "\n",
        "import numpy as np # linear algebra\n",
        "import pandas as pd # data processing, CSV file I/O (e.g. pd.read_csv)\n",
        "import os\n",
        "for dirname, _, filenames in os.walk('/kaggle/input'):\n",
        "    for filename in filenames:\n",
        "        print(os.path.join(dirname, filename))"
      ]
    },
    {
      "cell_type": "markdown",
      "id": "aee5db67",
      "metadata": {
        "papermill": {
          "duration": 0.035518,
          "end_time": "2022-05-31T07:19:35.468073",
          "exception": false,
          "start_time": "2022-05-31T07:19:35.432555",
          "status": "completed"
        },
        "tags": [],
        "id": "aee5db67"
      },
      "source": [
        "# 1 <b><span style=\"color:#27aee3; font-weight:1200\">|</span> Required Libraries"
      ]
    },
    {
      "cell_type": "code",
      "execution_count": null,
      "id": "d41d61c1",
      "metadata": {
        "execution": {
          "iopub.execute_input": "2022-05-31T07:19:35.538957Z",
          "iopub.status.busy": "2022-05-31T07:19:35.538403Z",
          "iopub.status.idle": "2022-05-31T07:19:43.416984Z",
          "shell.execute_reply": "2022-05-31T07:19:43.415962Z"
        },
        "papermill": {
          "duration": 7.917009,
          "end_time": "2022-05-31T07:19:43.419448",
          "exception": false,
          "start_time": "2022-05-31T07:19:35.502439",
          "status": "completed"
        },
        "tags": [],
        "id": "d41d61c1"
      },
      "outputs": [],
      "source": [
        "import matplotlib.pyplot as plt\n",
        "import seaborn as sns\n",
        "%matplotlib inline\n",
        "from collections import Counter\n",
        "\n",
        "import scipy as sp\n",
        "\n",
        "import warnings\n",
        "warnings.filterwarnings('ignore')\n",
        "\n",
        "import tensorflow as tf\n",
        "from tensorflow import keras\n",
        "from keras.models import Sequential, Model\n",
        "from keras.layers import Dense, Conv2D, Dropout, BatchNormalization, Flatten, MaxPooling2D, GlobalAveragePooling2D\n",
        "from keras.preprocessing.image import ImageDataGenerator\n",
        "from keras.callbacks import ModelCheckpoint, LearningRateScheduler\n",
        "from keras import regularizers\n",
        "from tensorflow.keras.utils import to_categorical\n",
        "from tensorflow.keras.preprocessing.image import ImageDataGenerator"
      ]
    },
    {
      "cell_type": "markdown",
      "id": "b854fec3",
      "metadata": {
        "papermill": {
          "duration": 0.035657,
          "end_time": "2022-05-31T07:19:43.491002",
          "exception": false,
          "start_time": "2022-05-31T07:19:43.455345",
          "status": "completed"
        },
        "tags": [],
        "id": "b854fec3"
      },
      "source": [
        "# 2 <b><span style=\"color:#27aee3; font-weight:1200\">|</span> Data"
      ]
    },
    {
      "cell_type": "code",
      "execution_count": null,
      "id": "1196d326",
      "metadata": {
        "execution": {
          "iopub.execute_input": "2022-05-31T07:19:43.566088Z",
          "iopub.status.busy": "2022-05-31T07:19:43.565775Z",
          "iopub.status.idle": "2022-05-31T07:19:47.257333Z",
          "shell.execute_reply": "2022-05-31T07:19:47.256369Z"
        },
        "papermill": {
          "duration": 3.731855,
          "end_time": "2022-05-31T07:19:47.260760",
          "exception": false,
          "start_time": "2022-05-31T07:19:43.528905",
          "status": "completed"
        },
        "tags": [],
        "colab": {
          "base_uri": "https://localhost:8080/",
          "height": 290
        },
        "id": "1196d326",
        "outputId": "d0ece10b-7895-4634-89cd-d6891bd9f27c"
      },
      "outputs": [
        {
          "output_type": "stream",
          "name": "stdout",
          "text": [
            "(42000, 785)\n",
            "\n"
          ]
        },
        {
          "output_type": "execute_result",
          "data": {
            "text/plain": [
              "   label  pixel0  pixel1  pixel2  pixel3  pixel4  pixel5  pixel6  pixel7  \\\n",
              "0      1       0       0       0       0       0       0       0       0   \n",
              "1      0       0       0       0       0       0       0       0       0   \n",
              "2      1       0       0       0       0       0       0       0       0   \n",
              "3      4       0       0       0       0       0       0       0       0   \n",
              "4      0       0       0       0       0       0       0       0       0   \n",
              "\n",
              "   pixel8  ...  pixel774  pixel775  pixel776  pixel777  pixel778  pixel779  \\\n",
              "0       0  ...         0         0         0         0         0         0   \n",
              "1       0  ...         0         0         0         0         0         0   \n",
              "2       0  ...         0         0         0         0         0         0   \n",
              "3       0  ...         0         0         0         0         0         0   \n",
              "4       0  ...         0         0         0         0         0         0   \n",
              "\n",
              "   pixel780  pixel781  pixel782  pixel783  \n",
              "0         0         0         0         0  \n",
              "1         0         0         0         0  \n",
              "2         0         0         0         0  \n",
              "3         0         0         0         0  \n",
              "4         0         0         0         0  \n",
              "\n",
              "[5 rows x 785 columns]"
            ],
            "text/html": [
              "\n",
              "  <div id=\"df-6e28a60e-4a05-4491-8bc6-1953a833fb86\" class=\"colab-df-container\">\n",
              "    <div>\n",
              "<style scoped>\n",
              "    .dataframe tbody tr th:only-of-type {\n",
              "        vertical-align: middle;\n",
              "    }\n",
              "\n",
              "    .dataframe tbody tr th {\n",
              "        vertical-align: top;\n",
              "    }\n",
              "\n",
              "    .dataframe thead th {\n",
              "        text-align: right;\n",
              "    }\n",
              "</style>\n",
              "<table border=\"1\" class=\"dataframe\">\n",
              "  <thead>\n",
              "    <tr style=\"text-align: right;\">\n",
              "      <th></th>\n",
              "      <th>label</th>\n",
              "      <th>pixel0</th>\n",
              "      <th>pixel1</th>\n",
              "      <th>pixel2</th>\n",
              "      <th>pixel3</th>\n",
              "      <th>pixel4</th>\n",
              "      <th>pixel5</th>\n",
              "      <th>pixel6</th>\n",
              "      <th>pixel7</th>\n",
              "      <th>pixel8</th>\n",
              "      <th>...</th>\n",
              "      <th>pixel774</th>\n",
              "      <th>pixel775</th>\n",
              "      <th>pixel776</th>\n",
              "      <th>pixel777</th>\n",
              "      <th>pixel778</th>\n",
              "      <th>pixel779</th>\n",
              "      <th>pixel780</th>\n",
              "      <th>pixel781</th>\n",
              "      <th>pixel782</th>\n",
              "      <th>pixel783</th>\n",
              "    </tr>\n",
              "  </thead>\n",
              "  <tbody>\n",
              "    <tr>\n",
              "      <th>0</th>\n",
              "      <td>1</td>\n",
              "      <td>0</td>\n",
              "      <td>0</td>\n",
              "      <td>0</td>\n",
              "      <td>0</td>\n",
              "      <td>0</td>\n",
              "      <td>0</td>\n",
              "      <td>0</td>\n",
              "      <td>0</td>\n",
              "      <td>0</td>\n",
              "      <td>...</td>\n",
              "      <td>0</td>\n",
              "      <td>0</td>\n",
              "      <td>0</td>\n",
              "      <td>0</td>\n",
              "      <td>0</td>\n",
              "      <td>0</td>\n",
              "      <td>0</td>\n",
              "      <td>0</td>\n",
              "      <td>0</td>\n",
              "      <td>0</td>\n",
              "    </tr>\n",
              "    <tr>\n",
              "      <th>1</th>\n",
              "      <td>0</td>\n",
              "      <td>0</td>\n",
              "      <td>0</td>\n",
              "      <td>0</td>\n",
              "      <td>0</td>\n",
              "      <td>0</td>\n",
              "      <td>0</td>\n",
              "      <td>0</td>\n",
              "      <td>0</td>\n",
              "      <td>0</td>\n",
              "      <td>...</td>\n",
              "      <td>0</td>\n",
              "      <td>0</td>\n",
              "      <td>0</td>\n",
              "      <td>0</td>\n",
              "      <td>0</td>\n",
              "      <td>0</td>\n",
              "      <td>0</td>\n",
              "      <td>0</td>\n",
              "      <td>0</td>\n",
              "      <td>0</td>\n",
              "    </tr>\n",
              "    <tr>\n",
              "      <th>2</th>\n",
              "      <td>1</td>\n",
              "      <td>0</td>\n",
              "      <td>0</td>\n",
              "      <td>0</td>\n",
              "      <td>0</td>\n",
              "      <td>0</td>\n",
              "      <td>0</td>\n",
              "      <td>0</td>\n",
              "      <td>0</td>\n",
              "      <td>0</td>\n",
              "      <td>...</td>\n",
              "      <td>0</td>\n",
              "      <td>0</td>\n",
              "      <td>0</td>\n",
              "      <td>0</td>\n",
              "      <td>0</td>\n",
              "      <td>0</td>\n",
              "      <td>0</td>\n",
              "      <td>0</td>\n",
              "      <td>0</td>\n",
              "      <td>0</td>\n",
              "    </tr>\n",
              "    <tr>\n",
              "      <th>3</th>\n",
              "      <td>4</td>\n",
              "      <td>0</td>\n",
              "      <td>0</td>\n",
              "      <td>0</td>\n",
              "      <td>0</td>\n",
              "      <td>0</td>\n",
              "      <td>0</td>\n",
              "      <td>0</td>\n",
              "      <td>0</td>\n",
              "      <td>0</td>\n",
              "      <td>...</td>\n",
              "      <td>0</td>\n",
              "      <td>0</td>\n",
              "      <td>0</td>\n",
              "      <td>0</td>\n",
              "      <td>0</td>\n",
              "      <td>0</td>\n",
              "      <td>0</td>\n",
              "      <td>0</td>\n",
              "      <td>0</td>\n",
              "      <td>0</td>\n",
              "    </tr>\n",
              "    <tr>\n",
              "      <th>4</th>\n",
              "      <td>0</td>\n",
              "      <td>0</td>\n",
              "      <td>0</td>\n",
              "      <td>0</td>\n",
              "      <td>0</td>\n",
              "      <td>0</td>\n",
              "      <td>0</td>\n",
              "      <td>0</td>\n",
              "      <td>0</td>\n",
              "      <td>0</td>\n",
              "      <td>...</td>\n",
              "      <td>0</td>\n",
              "      <td>0</td>\n",
              "      <td>0</td>\n",
              "      <td>0</td>\n",
              "      <td>0</td>\n",
              "      <td>0</td>\n",
              "      <td>0</td>\n",
              "      <td>0</td>\n",
              "      <td>0</td>\n",
              "      <td>0</td>\n",
              "    </tr>\n",
              "  </tbody>\n",
              "</table>\n",
              "<p>5 rows × 785 columns</p>\n",
              "</div>\n",
              "    <div class=\"colab-df-buttons\">\n",
              "\n",
              "  <div class=\"colab-df-container\">\n",
              "    <button class=\"colab-df-convert\" onclick=\"convertToInteractive('df-6e28a60e-4a05-4491-8bc6-1953a833fb86')\"\n",
              "            title=\"Convert this dataframe to an interactive table.\"\n",
              "            style=\"display:none;\">\n",
              "\n",
              "  <svg xmlns=\"http://www.w3.org/2000/svg\" height=\"24px\" viewBox=\"0 -960 960 960\">\n",
              "    <path d=\"M120-120v-720h720v720H120Zm60-500h600v-160H180v160Zm220 220h160v-160H400v160Zm0 220h160v-160H400v160ZM180-400h160v-160H180v160Zm440 0h160v-160H620v160ZM180-180h160v-160H180v160Zm440 0h160v-160H620v160Z\"/>\n",
              "  </svg>\n",
              "    </button>\n",
              "\n",
              "  <style>\n",
              "    .colab-df-container {\n",
              "      display:flex;\n",
              "      gap: 12px;\n",
              "    }\n",
              "\n",
              "    .colab-df-convert {\n",
              "      background-color: #E8F0FE;\n",
              "      border: none;\n",
              "      border-radius: 50%;\n",
              "      cursor: pointer;\n",
              "      display: none;\n",
              "      fill: #1967D2;\n",
              "      height: 32px;\n",
              "      padding: 0 0 0 0;\n",
              "      width: 32px;\n",
              "    }\n",
              "\n",
              "    .colab-df-convert:hover {\n",
              "      background-color: #E2EBFA;\n",
              "      box-shadow: 0px 1px 2px rgba(60, 64, 67, 0.3), 0px 1px 3px 1px rgba(60, 64, 67, 0.15);\n",
              "      fill: #174EA6;\n",
              "    }\n",
              "\n",
              "    .colab-df-buttons div {\n",
              "      margin-bottom: 4px;\n",
              "    }\n",
              "\n",
              "    [theme=dark] .colab-df-convert {\n",
              "      background-color: #3B4455;\n",
              "      fill: #D2E3FC;\n",
              "    }\n",
              "\n",
              "    [theme=dark] .colab-df-convert:hover {\n",
              "      background-color: #434B5C;\n",
              "      box-shadow: 0px 1px 3px 1px rgba(0, 0, 0, 0.15);\n",
              "      filter: drop-shadow(0px 1px 2px rgba(0, 0, 0, 0.3));\n",
              "      fill: #FFFFFF;\n",
              "    }\n",
              "  </style>\n",
              "\n",
              "    <script>\n",
              "      const buttonEl =\n",
              "        document.querySelector('#df-6e28a60e-4a05-4491-8bc6-1953a833fb86 button.colab-df-convert');\n",
              "      buttonEl.style.display =\n",
              "        google.colab.kernel.accessAllowed ? 'block' : 'none';\n",
              "\n",
              "      async function convertToInteractive(key) {\n",
              "        const element = document.querySelector('#df-6e28a60e-4a05-4491-8bc6-1953a833fb86');\n",
              "        const dataTable =\n",
              "          await google.colab.kernel.invokeFunction('convertToInteractive',\n",
              "                                                    [key], {});\n",
              "        if (!dataTable) return;\n",
              "\n",
              "        const docLinkHtml = 'Like what you see? Visit the ' +\n",
              "          '<a target=\"_blank\" href=https://colab.research.google.com/notebooks/data_table.ipynb>data table notebook</a>'\n",
              "          + ' to learn more about interactive tables.';\n",
              "        element.innerHTML = '';\n",
              "        dataTable['output_type'] = 'display_data';\n",
              "        await google.colab.output.renderOutput(dataTable, element);\n",
              "        const docLink = document.createElement('div');\n",
              "        docLink.innerHTML = docLinkHtml;\n",
              "        element.appendChild(docLink);\n",
              "      }\n",
              "    </script>\n",
              "  </div>\n",
              "\n",
              "\n",
              "<div id=\"df-fe58c1ae-0d70-441b-90b8-1eb7fabf2109\">\n",
              "  <button class=\"colab-df-quickchart\" onclick=\"quickchart('df-fe58c1ae-0d70-441b-90b8-1eb7fabf2109')\"\n",
              "            title=\"Suggest charts\"\n",
              "            style=\"display:none;\">\n",
              "\n",
              "<svg xmlns=\"http://www.w3.org/2000/svg\" height=\"24px\"viewBox=\"0 0 24 24\"\n",
              "     width=\"24px\">\n",
              "    <g>\n",
              "        <path d=\"M19 3H5c-1.1 0-2 .9-2 2v14c0 1.1.9 2 2 2h14c1.1 0 2-.9 2-2V5c0-1.1-.9-2-2-2zM9 17H7v-7h2v7zm4 0h-2V7h2v10zm4 0h-2v-4h2v4z\"/>\n",
              "    </g>\n",
              "</svg>\n",
              "  </button>\n",
              "\n",
              "<style>\n",
              "  .colab-df-quickchart {\n",
              "      --bg-color: #E8F0FE;\n",
              "      --fill-color: #1967D2;\n",
              "      --hover-bg-color: #E2EBFA;\n",
              "      --hover-fill-color: #174EA6;\n",
              "      --disabled-fill-color: #AAA;\n",
              "      --disabled-bg-color: #DDD;\n",
              "  }\n",
              "\n",
              "  [theme=dark] .colab-df-quickchart {\n",
              "      --bg-color: #3B4455;\n",
              "      --fill-color: #D2E3FC;\n",
              "      --hover-bg-color: #434B5C;\n",
              "      --hover-fill-color: #FFFFFF;\n",
              "      --disabled-bg-color: #3B4455;\n",
              "      --disabled-fill-color: #666;\n",
              "  }\n",
              "\n",
              "  .colab-df-quickchart {\n",
              "    background-color: var(--bg-color);\n",
              "    border: none;\n",
              "    border-radius: 50%;\n",
              "    cursor: pointer;\n",
              "    display: none;\n",
              "    fill: var(--fill-color);\n",
              "    height: 32px;\n",
              "    padding: 0;\n",
              "    width: 32px;\n",
              "  }\n",
              "\n",
              "  .colab-df-quickchart:hover {\n",
              "    background-color: var(--hover-bg-color);\n",
              "    box-shadow: 0 1px 2px rgba(60, 64, 67, 0.3), 0 1px 3px 1px rgba(60, 64, 67, 0.15);\n",
              "    fill: var(--button-hover-fill-color);\n",
              "  }\n",
              "\n",
              "  .colab-df-quickchart-complete:disabled,\n",
              "  .colab-df-quickchart-complete:disabled:hover {\n",
              "    background-color: var(--disabled-bg-color);\n",
              "    fill: var(--disabled-fill-color);\n",
              "    box-shadow: none;\n",
              "  }\n",
              "\n",
              "  .colab-df-spinner {\n",
              "    border: 2px solid var(--fill-color);\n",
              "    border-color: transparent;\n",
              "    border-bottom-color: var(--fill-color);\n",
              "    animation:\n",
              "      spin 1s steps(1) infinite;\n",
              "  }\n",
              "\n",
              "  @keyframes spin {\n",
              "    0% {\n",
              "      border-color: transparent;\n",
              "      border-bottom-color: var(--fill-color);\n",
              "      border-left-color: var(--fill-color);\n",
              "    }\n",
              "    20% {\n",
              "      border-color: transparent;\n",
              "      border-left-color: var(--fill-color);\n",
              "      border-top-color: var(--fill-color);\n",
              "    }\n",
              "    30% {\n",
              "      border-color: transparent;\n",
              "      border-left-color: var(--fill-color);\n",
              "      border-top-color: var(--fill-color);\n",
              "      border-right-color: var(--fill-color);\n",
              "    }\n",
              "    40% {\n",
              "      border-color: transparent;\n",
              "      border-right-color: var(--fill-color);\n",
              "      border-top-color: var(--fill-color);\n",
              "    }\n",
              "    60% {\n",
              "      border-color: transparent;\n",
              "      border-right-color: var(--fill-color);\n",
              "    }\n",
              "    80% {\n",
              "      border-color: transparent;\n",
              "      border-right-color: var(--fill-color);\n",
              "      border-bottom-color: var(--fill-color);\n",
              "    }\n",
              "    90% {\n",
              "      border-color: transparent;\n",
              "      border-bottom-color: var(--fill-color);\n",
              "    }\n",
              "  }\n",
              "</style>\n",
              "\n",
              "  <script>\n",
              "    async function quickchart(key) {\n",
              "      const quickchartButtonEl =\n",
              "        document.querySelector('#' + key + ' button');\n",
              "      quickchartButtonEl.disabled = true;  // To prevent multiple clicks.\n",
              "      quickchartButtonEl.classList.add('colab-df-spinner');\n",
              "      try {\n",
              "        const charts = await google.colab.kernel.invokeFunction(\n",
              "            'suggestCharts', [key], {});\n",
              "      } catch (error) {\n",
              "        console.error('Error during call to suggestCharts:', error);\n",
              "      }\n",
              "      quickchartButtonEl.classList.remove('colab-df-spinner');\n",
              "      quickchartButtonEl.classList.add('colab-df-quickchart-complete');\n",
              "    }\n",
              "    (() => {\n",
              "      let quickchartButtonEl =\n",
              "        document.querySelector('#df-fe58c1ae-0d70-441b-90b8-1eb7fabf2109 button');\n",
              "      quickchartButtonEl.style.display =\n",
              "        google.colab.kernel.accessAllowed ? 'block' : 'none';\n",
              "    })();\n",
              "  </script>\n",
              "</div>\n",
              "    </div>\n",
              "  </div>\n"
            ],
            "application/vnd.google.colaboratory.intrinsic+json": {
              "type": "dataframe",
              "variable_name": "train"
            }
          },
          "metadata": {},
          "execution_count": 23
        }
      ],
      "source": [
        "train = pd.read_csv('/content/train.csv')\n",
        "\n",
        "print(f'{train.shape}\\n')\n",
        "train.head()"
      ]
    },
    {
      "cell_type": "code",
      "execution_count": null,
      "id": "96209de8",
      "metadata": {
        "execution": {
          "iopub.execute_input": "2022-05-31T07:19:47.334951Z",
          "iopub.status.busy": "2022-05-31T07:19:47.334244Z",
          "iopub.status.idle": "2022-05-31T07:19:49.433726Z",
          "shell.execute_reply": "2022-05-31T07:19:49.432927Z"
        },
        "papermill": {
          "duration": 2.138528,
          "end_time": "2022-05-31T07:19:49.435648",
          "exception": false,
          "start_time": "2022-05-31T07:19:47.297120",
          "status": "completed"
        },
        "tags": [],
        "colab": {
          "base_uri": "https://localhost:8080/",
          "height": 290
        },
        "id": "96209de8",
        "outputId": "d563e495-b073-4f96-d07b-477b257ab9a2"
      },
      "outputs": [
        {
          "output_type": "stream",
          "name": "stdout",
          "text": [
            "(28000, 784)\n",
            "\n"
          ]
        },
        {
          "output_type": "execute_result",
          "data": {
            "text/plain": [
              "   pixel0  pixel1  pixel2  pixel3  pixel4  pixel5  pixel6  pixel7  pixel8  \\\n",
              "0       0       0       0       0       0       0       0       0       0   \n",
              "1       0       0       0       0       0       0       0       0       0   \n",
              "2       0       0       0       0       0       0       0       0       0   \n",
              "3       0       0       0       0       0       0       0       0       0   \n",
              "4       0       0       0       0       0       0       0       0       0   \n",
              "\n",
              "   pixel9  ...  pixel774  pixel775  pixel776  pixel777  pixel778  pixel779  \\\n",
              "0       0  ...         0         0         0         0         0         0   \n",
              "1       0  ...         0         0         0         0         0         0   \n",
              "2       0  ...         0         0         0         0         0         0   \n",
              "3       0  ...         0         0         0         0         0         0   \n",
              "4       0  ...         0         0         0         0         0         0   \n",
              "\n",
              "   pixel780  pixel781  pixel782  pixel783  \n",
              "0         0         0         0         0  \n",
              "1         0         0         0         0  \n",
              "2         0         0         0         0  \n",
              "3         0         0         0         0  \n",
              "4         0         0         0         0  \n",
              "\n",
              "[5 rows x 784 columns]"
            ],
            "text/html": [
              "\n",
              "  <div id=\"df-f9897482-2c31-4093-98ba-8689afb52ea1\" class=\"colab-df-container\">\n",
              "    <div>\n",
              "<style scoped>\n",
              "    .dataframe tbody tr th:only-of-type {\n",
              "        vertical-align: middle;\n",
              "    }\n",
              "\n",
              "    .dataframe tbody tr th {\n",
              "        vertical-align: top;\n",
              "    }\n",
              "\n",
              "    .dataframe thead th {\n",
              "        text-align: right;\n",
              "    }\n",
              "</style>\n",
              "<table border=\"1\" class=\"dataframe\">\n",
              "  <thead>\n",
              "    <tr style=\"text-align: right;\">\n",
              "      <th></th>\n",
              "      <th>pixel0</th>\n",
              "      <th>pixel1</th>\n",
              "      <th>pixel2</th>\n",
              "      <th>pixel3</th>\n",
              "      <th>pixel4</th>\n",
              "      <th>pixel5</th>\n",
              "      <th>pixel6</th>\n",
              "      <th>pixel7</th>\n",
              "      <th>pixel8</th>\n",
              "      <th>pixel9</th>\n",
              "      <th>...</th>\n",
              "      <th>pixel774</th>\n",
              "      <th>pixel775</th>\n",
              "      <th>pixel776</th>\n",
              "      <th>pixel777</th>\n",
              "      <th>pixel778</th>\n",
              "      <th>pixel779</th>\n",
              "      <th>pixel780</th>\n",
              "      <th>pixel781</th>\n",
              "      <th>pixel782</th>\n",
              "      <th>pixel783</th>\n",
              "    </tr>\n",
              "  </thead>\n",
              "  <tbody>\n",
              "    <tr>\n",
              "      <th>0</th>\n",
              "      <td>0</td>\n",
              "      <td>0</td>\n",
              "      <td>0</td>\n",
              "      <td>0</td>\n",
              "      <td>0</td>\n",
              "      <td>0</td>\n",
              "      <td>0</td>\n",
              "      <td>0</td>\n",
              "      <td>0</td>\n",
              "      <td>0</td>\n",
              "      <td>...</td>\n",
              "      <td>0</td>\n",
              "      <td>0</td>\n",
              "      <td>0</td>\n",
              "      <td>0</td>\n",
              "      <td>0</td>\n",
              "      <td>0</td>\n",
              "      <td>0</td>\n",
              "      <td>0</td>\n",
              "      <td>0</td>\n",
              "      <td>0</td>\n",
              "    </tr>\n",
              "    <tr>\n",
              "      <th>1</th>\n",
              "      <td>0</td>\n",
              "      <td>0</td>\n",
              "      <td>0</td>\n",
              "      <td>0</td>\n",
              "      <td>0</td>\n",
              "      <td>0</td>\n",
              "      <td>0</td>\n",
              "      <td>0</td>\n",
              "      <td>0</td>\n",
              "      <td>0</td>\n",
              "      <td>...</td>\n",
              "      <td>0</td>\n",
              "      <td>0</td>\n",
              "      <td>0</td>\n",
              "      <td>0</td>\n",
              "      <td>0</td>\n",
              "      <td>0</td>\n",
              "      <td>0</td>\n",
              "      <td>0</td>\n",
              "      <td>0</td>\n",
              "      <td>0</td>\n",
              "    </tr>\n",
              "    <tr>\n",
              "      <th>2</th>\n",
              "      <td>0</td>\n",
              "      <td>0</td>\n",
              "      <td>0</td>\n",
              "      <td>0</td>\n",
              "      <td>0</td>\n",
              "      <td>0</td>\n",
              "      <td>0</td>\n",
              "      <td>0</td>\n",
              "      <td>0</td>\n",
              "      <td>0</td>\n",
              "      <td>...</td>\n",
              "      <td>0</td>\n",
              "      <td>0</td>\n",
              "      <td>0</td>\n",
              "      <td>0</td>\n",
              "      <td>0</td>\n",
              "      <td>0</td>\n",
              "      <td>0</td>\n",
              "      <td>0</td>\n",
              "      <td>0</td>\n",
              "      <td>0</td>\n",
              "    </tr>\n",
              "    <tr>\n",
              "      <th>3</th>\n",
              "      <td>0</td>\n",
              "      <td>0</td>\n",
              "      <td>0</td>\n",
              "      <td>0</td>\n",
              "      <td>0</td>\n",
              "      <td>0</td>\n",
              "      <td>0</td>\n",
              "      <td>0</td>\n",
              "      <td>0</td>\n",
              "      <td>0</td>\n",
              "      <td>...</td>\n",
              "      <td>0</td>\n",
              "      <td>0</td>\n",
              "      <td>0</td>\n",
              "      <td>0</td>\n",
              "      <td>0</td>\n",
              "      <td>0</td>\n",
              "      <td>0</td>\n",
              "      <td>0</td>\n",
              "      <td>0</td>\n",
              "      <td>0</td>\n",
              "    </tr>\n",
              "    <tr>\n",
              "      <th>4</th>\n",
              "      <td>0</td>\n",
              "      <td>0</td>\n",
              "      <td>0</td>\n",
              "      <td>0</td>\n",
              "      <td>0</td>\n",
              "      <td>0</td>\n",
              "      <td>0</td>\n",
              "      <td>0</td>\n",
              "      <td>0</td>\n",
              "      <td>0</td>\n",
              "      <td>...</td>\n",
              "      <td>0</td>\n",
              "      <td>0</td>\n",
              "      <td>0</td>\n",
              "      <td>0</td>\n",
              "      <td>0</td>\n",
              "      <td>0</td>\n",
              "      <td>0</td>\n",
              "      <td>0</td>\n",
              "      <td>0</td>\n",
              "      <td>0</td>\n",
              "    </tr>\n",
              "  </tbody>\n",
              "</table>\n",
              "<p>5 rows × 784 columns</p>\n",
              "</div>\n",
              "    <div class=\"colab-df-buttons\">\n",
              "\n",
              "  <div class=\"colab-df-container\">\n",
              "    <button class=\"colab-df-convert\" onclick=\"convertToInteractive('df-f9897482-2c31-4093-98ba-8689afb52ea1')\"\n",
              "            title=\"Convert this dataframe to an interactive table.\"\n",
              "            style=\"display:none;\">\n",
              "\n",
              "  <svg xmlns=\"http://www.w3.org/2000/svg\" height=\"24px\" viewBox=\"0 -960 960 960\">\n",
              "    <path d=\"M120-120v-720h720v720H120Zm60-500h600v-160H180v160Zm220 220h160v-160H400v160Zm0 220h160v-160H400v160ZM180-400h160v-160H180v160Zm440 0h160v-160H620v160ZM180-180h160v-160H180v160Zm440 0h160v-160H620v160Z\"/>\n",
              "  </svg>\n",
              "    </button>\n",
              "\n",
              "  <style>\n",
              "    .colab-df-container {\n",
              "      display:flex;\n",
              "      gap: 12px;\n",
              "    }\n",
              "\n",
              "    .colab-df-convert {\n",
              "      background-color: #E8F0FE;\n",
              "      border: none;\n",
              "      border-radius: 50%;\n",
              "      cursor: pointer;\n",
              "      display: none;\n",
              "      fill: #1967D2;\n",
              "      height: 32px;\n",
              "      padding: 0 0 0 0;\n",
              "      width: 32px;\n",
              "    }\n",
              "\n",
              "    .colab-df-convert:hover {\n",
              "      background-color: #E2EBFA;\n",
              "      box-shadow: 0px 1px 2px rgba(60, 64, 67, 0.3), 0px 1px 3px 1px rgba(60, 64, 67, 0.15);\n",
              "      fill: #174EA6;\n",
              "    }\n",
              "\n",
              "    .colab-df-buttons div {\n",
              "      margin-bottom: 4px;\n",
              "    }\n",
              "\n",
              "    [theme=dark] .colab-df-convert {\n",
              "      background-color: #3B4455;\n",
              "      fill: #D2E3FC;\n",
              "    }\n",
              "\n",
              "    [theme=dark] .colab-df-convert:hover {\n",
              "      background-color: #434B5C;\n",
              "      box-shadow: 0px 1px 3px 1px rgba(0, 0, 0, 0.15);\n",
              "      filter: drop-shadow(0px 1px 2px rgba(0, 0, 0, 0.3));\n",
              "      fill: #FFFFFF;\n",
              "    }\n",
              "  </style>\n",
              "\n",
              "    <script>\n",
              "      const buttonEl =\n",
              "        document.querySelector('#df-f9897482-2c31-4093-98ba-8689afb52ea1 button.colab-df-convert');\n",
              "      buttonEl.style.display =\n",
              "        google.colab.kernel.accessAllowed ? 'block' : 'none';\n",
              "\n",
              "      async function convertToInteractive(key) {\n",
              "        const element = document.querySelector('#df-f9897482-2c31-4093-98ba-8689afb52ea1');\n",
              "        const dataTable =\n",
              "          await google.colab.kernel.invokeFunction('convertToInteractive',\n",
              "                                                    [key], {});\n",
              "        if (!dataTable) return;\n",
              "\n",
              "        const docLinkHtml = 'Like what you see? Visit the ' +\n",
              "          '<a target=\"_blank\" href=https://colab.research.google.com/notebooks/data_table.ipynb>data table notebook</a>'\n",
              "          + ' to learn more about interactive tables.';\n",
              "        element.innerHTML = '';\n",
              "        dataTable['output_type'] = 'display_data';\n",
              "        await google.colab.output.renderOutput(dataTable, element);\n",
              "        const docLink = document.createElement('div');\n",
              "        docLink.innerHTML = docLinkHtml;\n",
              "        element.appendChild(docLink);\n",
              "      }\n",
              "    </script>\n",
              "  </div>\n",
              "\n",
              "\n",
              "<div id=\"df-856fee77-f262-45c1-9763-cb5e4dd65731\">\n",
              "  <button class=\"colab-df-quickchart\" onclick=\"quickchart('df-856fee77-f262-45c1-9763-cb5e4dd65731')\"\n",
              "            title=\"Suggest charts\"\n",
              "            style=\"display:none;\">\n",
              "\n",
              "<svg xmlns=\"http://www.w3.org/2000/svg\" height=\"24px\"viewBox=\"0 0 24 24\"\n",
              "     width=\"24px\">\n",
              "    <g>\n",
              "        <path d=\"M19 3H5c-1.1 0-2 .9-2 2v14c0 1.1.9 2 2 2h14c1.1 0 2-.9 2-2V5c0-1.1-.9-2-2-2zM9 17H7v-7h2v7zm4 0h-2V7h2v10zm4 0h-2v-4h2v4z\"/>\n",
              "    </g>\n",
              "</svg>\n",
              "  </button>\n",
              "\n",
              "<style>\n",
              "  .colab-df-quickchart {\n",
              "      --bg-color: #E8F0FE;\n",
              "      --fill-color: #1967D2;\n",
              "      --hover-bg-color: #E2EBFA;\n",
              "      --hover-fill-color: #174EA6;\n",
              "      --disabled-fill-color: #AAA;\n",
              "      --disabled-bg-color: #DDD;\n",
              "  }\n",
              "\n",
              "  [theme=dark] .colab-df-quickchart {\n",
              "      --bg-color: #3B4455;\n",
              "      --fill-color: #D2E3FC;\n",
              "      --hover-bg-color: #434B5C;\n",
              "      --hover-fill-color: #FFFFFF;\n",
              "      --disabled-bg-color: #3B4455;\n",
              "      --disabled-fill-color: #666;\n",
              "  }\n",
              "\n",
              "  .colab-df-quickchart {\n",
              "    background-color: var(--bg-color);\n",
              "    border: none;\n",
              "    border-radius: 50%;\n",
              "    cursor: pointer;\n",
              "    display: none;\n",
              "    fill: var(--fill-color);\n",
              "    height: 32px;\n",
              "    padding: 0;\n",
              "    width: 32px;\n",
              "  }\n",
              "\n",
              "  .colab-df-quickchart:hover {\n",
              "    background-color: var(--hover-bg-color);\n",
              "    box-shadow: 0 1px 2px rgba(60, 64, 67, 0.3), 0 1px 3px 1px rgba(60, 64, 67, 0.15);\n",
              "    fill: var(--button-hover-fill-color);\n",
              "  }\n",
              "\n",
              "  .colab-df-quickchart-complete:disabled,\n",
              "  .colab-df-quickchart-complete:disabled:hover {\n",
              "    background-color: var(--disabled-bg-color);\n",
              "    fill: var(--disabled-fill-color);\n",
              "    box-shadow: none;\n",
              "  }\n",
              "\n",
              "  .colab-df-spinner {\n",
              "    border: 2px solid var(--fill-color);\n",
              "    border-color: transparent;\n",
              "    border-bottom-color: var(--fill-color);\n",
              "    animation:\n",
              "      spin 1s steps(1) infinite;\n",
              "  }\n",
              "\n",
              "  @keyframes spin {\n",
              "    0% {\n",
              "      border-color: transparent;\n",
              "      border-bottom-color: var(--fill-color);\n",
              "      border-left-color: var(--fill-color);\n",
              "    }\n",
              "    20% {\n",
              "      border-color: transparent;\n",
              "      border-left-color: var(--fill-color);\n",
              "      border-top-color: var(--fill-color);\n",
              "    }\n",
              "    30% {\n",
              "      border-color: transparent;\n",
              "      border-left-color: var(--fill-color);\n",
              "      border-top-color: var(--fill-color);\n",
              "      border-right-color: var(--fill-color);\n",
              "    }\n",
              "    40% {\n",
              "      border-color: transparent;\n",
              "      border-right-color: var(--fill-color);\n",
              "      border-top-color: var(--fill-color);\n",
              "    }\n",
              "    60% {\n",
              "      border-color: transparent;\n",
              "      border-right-color: var(--fill-color);\n",
              "    }\n",
              "    80% {\n",
              "      border-color: transparent;\n",
              "      border-right-color: var(--fill-color);\n",
              "      border-bottom-color: var(--fill-color);\n",
              "    }\n",
              "    90% {\n",
              "      border-color: transparent;\n",
              "      border-bottom-color: var(--fill-color);\n",
              "    }\n",
              "  }\n",
              "</style>\n",
              "\n",
              "  <script>\n",
              "    async function quickchart(key) {\n",
              "      const quickchartButtonEl =\n",
              "        document.querySelector('#' + key + ' button');\n",
              "      quickchartButtonEl.disabled = true;  // To prevent multiple clicks.\n",
              "      quickchartButtonEl.classList.add('colab-df-spinner');\n",
              "      try {\n",
              "        const charts = await google.colab.kernel.invokeFunction(\n",
              "            'suggestCharts', [key], {});\n",
              "      } catch (error) {\n",
              "        console.error('Error during call to suggestCharts:', error);\n",
              "      }\n",
              "      quickchartButtonEl.classList.remove('colab-df-spinner');\n",
              "      quickchartButtonEl.classList.add('colab-df-quickchart-complete');\n",
              "    }\n",
              "    (() => {\n",
              "      let quickchartButtonEl =\n",
              "        document.querySelector('#df-856fee77-f262-45c1-9763-cb5e4dd65731 button');\n",
              "      quickchartButtonEl.style.display =\n",
              "        google.colab.kernel.accessAllowed ? 'block' : 'none';\n",
              "    })();\n",
              "  </script>\n",
              "</div>\n",
              "    </div>\n",
              "  </div>\n"
            ],
            "application/vnd.google.colaboratory.intrinsic+json": {
              "type": "dataframe",
              "variable_name": "test"
            }
          },
          "metadata": {},
          "execution_count": 24
        }
      ],
      "source": [
        "test = pd.read_csv('/content/test.csv')\n",
        "\n",
        "print(f'{test.shape}\\n')\n",
        "test.head()"
      ]
    },
    {
      "cell_type": "markdown",
      "id": "7e48691c",
      "metadata": {
        "papermill": {
          "duration": 0.035682,
          "end_time": "2022-05-31T07:19:49.508889",
          "exception": false,
          "start_time": "2022-05-31T07:19:49.473207",
          "status": "completed"
        },
        "tags": [],
        "id": "7e48691c"
      },
      "source": [
        "# 3 <b><span style=\"color:#27aee3; font-weight:1200\">|</span> Data Preprocessing"
      ]
    },
    {
      "cell_type": "code",
      "execution_count": null,
      "id": "576dc1f4",
      "metadata": {
        "execution": {
          "iopub.execute_input": "2022-05-31T07:19:49.582335Z",
          "iopub.status.busy": "2022-05-31T07:19:49.582045Z",
          "iopub.status.idle": "2022-05-31T07:19:49.587233Z",
          "shell.execute_reply": "2022-05-31T07:19:49.586227Z"
        },
        "papermill": {
          "duration": 0.044257,
          "end_time": "2022-05-31T07:19:49.589224",
          "exception": false,
          "start_time": "2022-05-31T07:19:49.544967",
          "status": "completed"
        },
        "tags": [],
        "id": "576dc1f4"
      },
      "outputs": [],
      "source": [
        "x_train = train.values[:, 1:] # # получаем все значения, начиная с 1-го индекса и далее\n",
        "y_train = train.values[:, 0]  # получаем столбец с меткой\n",
        "x_test = test.values[:, 0:]   # получаем все значения, начиная с 0-го индекса\n",
        "\n",
        "del train # delete train and test set to free up memory\n",
        "del test"
      ]
    },
    {
      "cell_type": "markdown",
      "id": "210e57da",
      "metadata": {
        "papermill": {
          "duration": 0.03562,
          "end_time": "2022-05-31T07:19:49.660909",
          "exception": false,
          "start_time": "2022-05-31T07:19:49.625289",
          "status": "completed"
        },
        "tags": [],
        "id": "210e57da"
      },
      "source": [
        "### <b><span style=\"color:#27aee3; font-weight:1200\">※</span> Some of the training set contents<br/>"
      ]
    },
    {
      "cell_type": "code",
      "execution_count": 50,
      "id": "97dbaa88",
      "metadata": {
        "execution": {
          "iopub.execute_input": "2022-05-31T07:19:49.733736Z",
          "iopub.status.busy": "2022-05-31T07:19:49.733454Z",
          "iopub.status.idle": "2022-05-31T07:19:50.490573Z",
          "shell.execute_reply": "2022-05-31T07:19:50.489628Z"
        },
        "papermill": {
          "duration": 0.79625,
          "end_time": "2022-05-31T07:19:50.492675",
          "exception": false,
          "start_time": "2022-05-31T07:19:49.696425",
          "status": "completed"
        },
        "tags": [],
        "colab": {
          "base_uri": "https://localhost:8080/",
          "height": 670
        },
        "id": "97dbaa88",
        "outputId": "0085f02b-7ef2-41df-ff8f-73f0058b47ee"
      },
      "outputs": [
        {
          "output_type": "display_data",
          "data": {
            "text/plain": [
              "<Figure size 1400x1000 with 16 Axes>"
            ],
            "image/png": "[encoded data removed]"
          },
          "metadata": {}
        }
      ],
      "source": [
        "fig = plt.figure(figsize=[14, 10])\n",
        "\n",
        "for i in range(16):\n",
        "    ax = fig.add_subplot(5 , 4, i + 1, xticks=[], yticks=[])\n",
        "    ax.imshow(x_train[i].reshape((28,28)))\n",
        "    ax.set_title(str(y_train[i]))"
      ]
    },
    {
      "cell_type": "markdown",
      "id": "c33d4aef",
      "metadata": {
        "papermill": {
          "duration": 0.036647,
          "end_time": "2022-05-31T07:19:50.567281",
          "exception": false,
          "start_time": "2022-05-31T07:19:50.530634",
          "status": "completed"
        },
        "tags": [],
        "id": "c33d4aef"
      },
      "source": [
        "### <b><span style=\"color:#27aee3; font-weight:1200\">※</span> Normalizing the pixel values"
      ]
    },
    {
      "cell_type": "code",
      "execution_count": null,
      "id": "43c866f2",
      "metadata": {
        "execution": {
          "iopub.execute_input": "2022-05-31T07:19:50.646092Z",
          "iopub.status.busy": "2022-05-31T07:19:50.645814Z",
          "iopub.status.idle": "2022-05-31T07:19:51.262188Z",
          "shell.execute_reply": "2022-05-31T07:19:51.261213Z"
        },
        "papermill": {
          "duration": 0.660391,
          "end_time": "2022-05-31T07:19:51.264698",
          "exception": false,
          "start_time": "2022-05-31T07:19:50.604307",
          "status": "completed"
        },
        "tags": [],
        "colab": {
          "base_uri": "https://localhost:8080/"
        },
        "id": "43c866f2",
        "outputId": "15a2c0cb-e136-42e0-c154-da0988201838"
      },
      "outputs": [
        {
          "output_type": "execute_result",
          "data": {
            "text/plain": [
              "array([1, 0, 1, ..., 7, 6, 9])"
            ]
          },
          "metadata": {},
          "execution_count": 27
        }
      ],
      "source": [
        "mean = np.mean(x_train) # take the mean\n",
        "std = np.std(x_train)   # take the standard deviation\n",
        "x_train = (x_train-mean)/(std+1e-7)    # normalizing the values\n",
        "x_test = (x_test-mean)/(std+1e-7)\n",
        "\n",
        "x_train = x_train.reshape(-1, 28, 28, 1) # reshaping them\n",
        "x_test = x_test.reshape(-1, 28, 28, 1)\n",
        "\n",
        "y_train"
      ]
    },
    {
      "cell_type": "code",
      "execution_count": null,
      "id": "a1807fa4",
      "metadata": {
        "execution": {
          "iopub.execute_input": "2022-05-31T07:19:51.346886Z",
          "iopub.status.busy": "2022-05-31T07:19:51.346377Z",
          "iopub.status.idle": "2022-05-31T07:19:51.556500Z",
          "shell.execute_reply": "2022-05-31T07:19:51.555733Z"
        },
        "papermill": {
          "duration": 0.253768,
          "end_time": "2022-05-31T07:19:51.558924",
          "exception": false,
          "start_time": "2022-05-31T07:19:51.305156",
          "status": "completed"
        },
        "tags": [],
        "colab": {
          "base_uri": "https://localhost:8080/",
          "height": 447
        },
        "id": "a1807fa4",
        "outputId": "da1f992b-e9c9-4878-c542-fef6ee7fa7e8"
      },
      "outputs": [
        {
          "output_type": "execute_result",
          "data": {
            "text/plain": [
              "<matplotlib.image.AxesImage at 0x7e8414e619f0>"
            ]
          },
          "metadata": {},
          "execution_count": 28
        },
        {
          "output_type": "display_data",
          "data": {
            "text/plain": [
              "<Figure size 640x480 with 1 Axes>"
            ],
            "image/png": "[encoded data removed]"
          },
          "metadata": {}
        }
      ],
      "source": [
        "plt.imshow(x_train[2])"
      ]
    },
    {
      "cell_type": "code",
      "execution_count": null,
      "id": "ae2e492a",
      "metadata": {
        "execution": {
          "iopub.execute_input": "2022-05-31T07:19:51.641114Z",
          "iopub.status.busy": "2022-05-31T07:19:51.640428Z",
          "iopub.status.idle": "2022-05-31T07:19:51.647014Z",
          "shell.execute_reply": "2022-05-31T07:19:51.646148Z"
        },
        "papermill": {
          "duration": 0.04926,
          "end_time": "2022-05-31T07:19:51.649166",
          "exception": false,
          "start_time": "2022-05-31T07:19:51.599906",
          "status": "completed"
        },
        "tags": [],
        "colab": {
          "base_uri": "https://localhost:8080/"
        },
        "id": "ae2e492a",
        "outputId": "eb15016b-746f-49f2-b1c6-08e026fd7864"
      },
      "outputs": [
        {
          "output_type": "execute_result",
          "data": {
            "text/plain": [
              "1"
            ]
          },
          "metadata": {},
          "execution_count": 29
        }
      ],
      "source": [
        "y_train[2]"
      ]
    },
    {
      "cell_type": "code",
      "execution_count": null,
      "id": "6612ca3e",
      "metadata": {
        "execution": {
          "iopub.execute_input": "2022-05-31T07:19:51.738100Z",
          "iopub.status.busy": "2022-05-31T07:19:51.737144Z",
          "iopub.status.idle": "2022-05-31T07:19:51.744959Z",
          "shell.execute_reply": "2022-05-31T07:19:51.744040Z"
        },
        "papermill": {
          "duration": 0.053351,
          "end_time": "2022-05-31T07:19:51.747240",
          "exception": false,
          "start_time": "2022-05-31T07:19:51.693889",
          "status": "completed"
        },
        "tags": [],
        "colab": {
          "base_uri": "https://localhost:8080/"
        },
        "id": "6612ca3e",
        "outputId": "99b97844-91b4-44a7-c2d0-10840343bdbc"
      },
      "outputs": [
        {
          "output_type": "stream",
          "name": "stdout",
          "text": [
            "Training samples: (37000, 28, 28, 1)\n",
            "Validation samples: (5000, 28, 28, 1)\n",
            "Testing samples: (28000, 28, 28, 1)\n"
          ]
        }
      ],
      "source": [
        "num_classes = 10\n",
        "\n",
        "y_train = to_categorical(y_train, num_classes=num_classes)\n",
        "\n",
        "x_train, x_val = x_train[:37000], x_train[37000:]\n",
        "y_train, y_val = y_train[:37000], y_train[37000:]\n",
        "\n",
        "print(f'Training samples: {x_train.shape}\\nValidation samples: {x_val.shape}\\nTesting samples: {x_test.shape}')"
      ]
    },
    {
      "cell_type": "markdown",
      "id": "1c025a69",
      "metadata": {
        "papermill": {
          "duration": 0.042242,
          "end_time": "2022-05-31T07:19:51.831705",
          "exception": false,
          "start_time": "2022-05-31T07:19:51.789463",
          "status": "completed"
        },
        "tags": [],
        "id": "1c025a69"
      },
      "source": [
        "# 4 <b><span style=\"color:#27aee3; font-weight:1200\">|</span> CNN Model"
      ]
    },
    {
      "cell_type": "code",
      "source": [
        "# Создание модели Sequential для\n",
        "#последовательного стекирования слоёв.\n",
        "\n",
        "model = Sequential()\n",
        "\n",
        "# Обратите внимание на параметр padding,\n",
        "#чтобы восстановить потерянные пиксели у границ при\n",
        "#свертке.\n",
        "model.add(Conv2D(16, input_shape=(28,28,1),\n",
        "                 kernel_size=(3,3), activation='relu',\n",
        "                 padding='same'))\n",
        "\n",
        "# Пуллинг слой со стридом 2 уменьшит размер\n",
        "#изображения вдвое.\n",
        "model.add(MaxPooling2D(pool_size=(2,2)))\n",
        "\n",
        "# Проход через дополнительные сверточные\n",
        "# слои с увеличением числа фильтров.\n",
        "model.add(Conv2D(32, kernel_size=(3,3),\n",
        "                 activation='relu', padding='same'))\n",
        "model.add(MaxPooling2D(pool_size=(2,2)))\n",
        "\n",
        "model.add(Conv2D(64, kernel_size=(3,3),\n",
        "                 activation='relu', padding='same'))\n",
        "model.add(MaxPooling2D(pool_size=(2,2)))\n",
        "\n",
        "model.add(Conv2D(128, kernel_size=(3,3),\n",
        "                 activation='relu', padding='same'))\n",
        "\n",
        "# Использование глобального усреднения\n",
        "#для учёта пикселей с меньшей интенсивностью.\n",
        "model.add(GlobalAveragePooling2D())\n",
        "\n",
        "# Вывод вероятностей классов.\n",
        "model.add(Dense(10, activation='softmax'))\n",
        "\n",
        "# Вывод краткой информации о модели.\n",
        "model.summary()\n",
        "\n",
        "# Компиляция модели с оптимизатором Adam, функцией потерь categorical_crossentropy и метрикой accuracy.\n",
        "model.compile(optimizer='adam', loss='categorical_crossentropy', metrics=['accuracy'])"
      ],
      "metadata": {
        "colab": {
          "base_uri": "https://localhost:8080/"
        },
        "id": "kdcWhMCuVpKb",
        "outputId": "a115babf-42ad-4266-dcc3-6bd97bd778a5"
      },
      "id": "kdcWhMCuVpKb",
      "execution_count": null,
      "outputs": [
        {
          "output_type": "stream",
          "name": "stdout",
          "text": [
            "Model: \"sequential_1\"\n",
            "_________________________________________________________________\n",
            " Layer (type)                Output Shape              Param #   \n",
            "=================================================================\n",
            " conv2d_4 (Conv2D)           (None, 28, 28, 16)        160       \n",
            "                                                                 \n",
            " max_pooling2d_3 (MaxPoolin  (None, 14, 14, 16)        0         \n",
            " g2D)                                                            \n",
            "                                                                 \n",
            " conv2d_5 (Conv2D)           (None, 14, 14, 32)        4640      \n",
            "                                                                 \n",
            " max_pooling2d_4 (MaxPoolin  (None, 7, 7, 32)          0         \n",
            " g2D)                                                            \n",
            "                                                                 \n",
            " conv2d_6 (Conv2D)           (None, 7, 7, 64)          18496     \n",
            "                                                                 \n",
            " max_pooling2d_5 (MaxPoolin  (None, 3, 3, 64)          0         \n",
            " g2D)                                                            \n",
            "                                                                 \n",
            " conv2d_7 (Conv2D)           (None, 3, 3, 128)         73856     \n",
            "                                                                 \n",
            " global_average_pooling2d_1  (None, 128)               0         \n",
            "  (GlobalAveragePooling2D)                                       \n",
            "                                                                 \n",
            " dense_1 (Dense)             (None, 10)                1290      \n",
            "                                                                 \n",
            "=================================================================\n",
            "Total params: 98442 (384.54 KB)\n",
            "Trainable params: 98442 (384.54 KB)\n",
            "Non-trainable params: 0 (0.00 Byte)\n",
            "_________________________________________________________________\n"
          ]
        }
      ]
    },
    {
      "cell_type": "markdown",
      "id": "3c0cb8ea",
      "metadata": {
        "papermill": {
          "duration": 0.042743,
          "end_time": "2022-05-31T07:19:52.197432",
          "exception": false,
          "start_time": "2022-05-31T07:19:52.154689",
          "status": "completed"
        },
        "tags": [],
        "id": "3c0cb8ea"
      },
      "source": [
        "# 5 <b><span style=\"color:#27aee3; font-weight:1200\">|</span> Data Augmentation"
      ]
    },
    {
      "cell_type": "code",
      "execution_count": null,
      "id": "679553c3",
      "metadata": {
        "execution": {
          "iopub.execute_input": "2022-05-31T07:19:52.287347Z",
          "iopub.status.busy": "2022-05-31T07:19:52.286708Z",
          "iopub.status.idle": "2022-05-31T07:19:53.437768Z",
          "shell.execute_reply": "2022-05-31T07:19:53.436882Z"
        },
        "papermill": {
          "duration": 1.199337,
          "end_time": "2022-05-31T07:19:53.440618",
          "exception": false,
          "start_time": "2022-05-31T07:19:52.241281",
          "status": "completed"
        },
        "tags": [],
        "colab": {
          "base_uri": "https://localhost:8080/",
          "height": 554
        },
        "id": "679553c3",
        "outputId": "725e0fce-28a3-4e0c-fa03-cb431a5c20dd"
      },
      "outputs": [
        {
          "output_type": "display_data",
          "data": {
            "text/plain": [
              "<Figure size 1000x800 with 24 Axes>"
            ],
            "image/png": "[encoded data removed]"
          },
          "metadata": {}
        }
      ],
      "source": [
        "datagen = ImageDataGenerator(\n",
        "                rotation_range=10,\n",
        "                zoom_range = 0.10,\n",
        "                width_shift_range=0.1,\n",
        "                height_shift_range=0.1\n",
        ")\n",
        "\n",
        "aug = datagen.flow(x_train[6].reshape(-1, 28, 28, 1))\n",
        "\n",
        "fig = plt.figure(figsize=[10, 8])\n",
        "for i in range(24):\n",
        "\n",
        "    ax = fig.add_subplot(3, 8, i+1, xticks=[], yticks=[])\n",
        "    aug_img = next(aug)[0]\n",
        "    ax.imshow(aug_img, cmap = 'gray')\n",
        "\n",
        "plt.show()"
      ]
    },
    {
      "cell_type": "markdown",
      "id": "71e66459",
      "metadata": {
        "papermill": {
          "duration": 0.046623,
          "end_time": "2022-05-31T07:19:53.533276",
          "exception": false,
          "start_time": "2022-05-31T07:19:53.486653",
          "status": "completed"
        },
        "tags": [],
        "id": "71e66459"
      },
      "source": [
        "# 6 <b><span style=\"color:#27aee3; font-weight:1200\">|</span> Network Training"
      ]
    },
    {
      "cell_type": "markdown",
      "id": "ffc3a564",
      "metadata": {
        "papermill": {
          "duration": 0.044209,
          "end_time": "2022-05-31T07:19:53.623310",
          "exception": false,
          "start_time": "2022-05-31T07:19:53.579101",
          "status": "completed"
        },
        "tags": [],
        "id": "ffc3a564"
      },
      "source": [
        "LearningRateScheduler is used to update the learning rate with each new epoch."
      ]
    },
    {
      "cell_type": "code",
      "execution_count": null,
      "id": "f2726024",
      "metadata": {
        "execution": {
          "iopub.execute_input": "2022-05-31T07:19:53.712518Z",
          "iopub.status.busy": "2022-05-31T07:19:53.711498Z",
          "iopub.status.idle": "2022-05-31T07:25:24.940090Z",
          "shell.execute_reply": "2022-05-31T07:25:24.938987Z"
        },
        "papermill": {
          "duration": 331.275127,
          "end_time": "2022-05-31T07:25:24.942705",
          "exception": false,
          "start_time": "2022-05-31T07:19:53.667578",
          "status": "completed"
        },
        "tags": [],
        "colab": {
          "base_uri": "https://localhost:8080/"
        },
        "id": "f2726024",
        "outputId": "d537741b-6f10-4f76-bc9e-8c6605a84c4d"
      },
      "outputs": [
        {
          "output_type": "stream",
          "name": "stdout",
          "text": [
            "Epoch 1/10\n",
            "578/578 [==============================] - 44s 74ms/step - loss: 0.4575 - accuracy: 0.8560 - val_loss: 0.1643 - val_accuracy: 0.9478 - lr: 0.0010\n",
            "Epoch 2/10\n",
            "578/578 [==============================] - 40s 69ms/step - loss: 0.1365 - accuracy: 0.9571 - val_loss: 0.0855 - val_accuracy: 0.9738 - lr: 9.5000e-04\n",
            "Epoch 3/10\n",
            "578/578 [==============================] - 40s 69ms/step - loss: 0.0901 - accuracy: 0.9717 - val_loss: 0.0581 - val_accuracy: 0.9810 - lr: 9.0250e-04\n",
            "Epoch 4/10\n",
            "578/578 [==============================] - 40s 69ms/step - loss: 0.0739 - accuracy: 0.9770 - val_loss: 0.0558 - val_accuracy: 0.9828 - lr: 8.5737e-04\n",
            "Epoch 5/10\n",
            "578/578 [==============================] - 40s 69ms/step - loss: 0.0604 - accuracy: 0.9815 - val_loss: 0.0624 - val_accuracy: 0.9814 - lr: 8.1451e-04\n",
            "Epoch 6/10\n",
            "578/578 [==============================] - 40s 69ms/step - loss: 0.0532 - accuracy: 0.9833 - val_loss: 0.0485 - val_accuracy: 0.9858 - lr: 7.7378e-04\n",
            "Epoch 7/10\n",
            "578/578 [==============================] - 40s 69ms/step - loss: 0.0481 - accuracy: 0.9849 - val_loss: 0.0343 - val_accuracy: 0.9904 - lr: 7.3509e-04\n",
            "Epoch 8/10\n",
            "578/578 [==============================] - 40s 70ms/step - loss: 0.0436 - accuracy: 0.9864 - val_loss: 0.0489 - val_accuracy: 0.9850 - lr: 6.9834e-04\n",
            "Epoch 9/10\n",
            "578/578 [==============================] - 40s 70ms/step - loss: 0.0399 - accuracy: 0.9875 - val_loss: 0.0381 - val_accuracy: 0.9904 - lr: 6.6342e-04\n",
            "Epoch 10/10\n",
            "578/578 [==============================] - 40s 70ms/step - loss: 0.0393 - accuracy: 0.9875 - val_loss: 0.0385 - val_accuracy: 0.9876 - lr: 6.3025e-04\n"
          ]
        }
      ],
      "source": [
        "annealer = LearningRateScheduler(lambda x: 1e-3 * 0.95 ** x) #ошибиться\n",
        "epochs = 10\n",
        "batch_size = 64\n",
        "hist = model.fit(\n",
        "    datagen.flow(x_train, y_train, batch_size=batch_size),\n",
        "    epochs = epochs,\n",
        "    steps_per_epoch=x_train.shape[0] // batch_size,\n",
        "    validation_data = (x_val, y_val),\n",
        "    callbacks = [annealer],\n",
        "    verbose = 1)"
      ]
    },
    {
      "cell_type": "markdown",
      "id": "49203b1d",
      "metadata": {
        "papermill": {
          "duration": 1.206102,
          "end_time": "2022-05-31T07:25:27.374840",
          "exception": false,
          "start_time": "2022-05-31T07:25:26.168738",
          "status": "completed"
        },
        "tags": [],
        "id": "49203b1d"
      },
      "source": [
        "# 7 <b><span style=\"color:#27aee3; font-weight:1200\">|</span> Карта активации класса (CAM)\n",
        "    \n",
        "Карта активации класса - это матрица, которая показывает, каким частям изображения модель уделяла больше или меньше внимания.\n",
        "    \n",
        "<center><img src='https://res.cloudinary.com/vincent1bt/image/upload/c_scale,w_752/v1559767859/x-bone_ovdahr.jpg'></img></center>\n",
        "\n",
        "<br/>\n",
        "\n",
        "- Более насыщенные цвета указывают на то, что модель привлекает к себе больше внимания;\n",
        "- Более темные цвета привлекают меньше внимания.\n",
        "\n",
        "Теперь, чтобы сгенерировать карты активации классов, нам нужно получить объекты, обнаруженные в последнем сверточном слое, а затем посмотреть, какие из них наиболее активны при генерации выходных вероятностей.\n",
        "\n",
        "Итак, мы возьмем следующие:"
      ]
    },
    {
      "cell_type": "code",
      "execution_count": null,
      "id": "48e7b242",
      "metadata": {
        "execution": {
          "iopub.execute_input": "2022-05-31T07:25:29.775021Z",
          "iopub.status.busy": "2022-05-31T07:25:29.774719Z",
          "iopub.status.idle": "2022-05-31T07:25:29.780641Z",
          "shell.execute_reply": "2022-05-31T07:25:29.779695Z"
        },
        "papermill": {
          "duration": 1.162883,
          "end_time": "2022-05-31T07:25:29.783021",
          "exception": false,
          "start_time": "2022-05-31T07:25:28.620138",
          "status": "completed"
        },
        "tags": [],
        "colab": {
          "base_uri": "https://localhost:8080/"
        },
        "id": "48e7b242",
        "outputId": "e4595460-4590-4375-b7d8-6bd5707aaefa"
      },
      "outputs": [
        {
          "output_type": "stream",
          "name": "stdout",
          "text": [
            "The last layers:\n",
            "\n",
            "convolutional\n",
            "pooling\n",
            "core\n"
          ]
        }
      ],
      "source": [
        "print(\"The last layers:\\n\")\n",
        "for i in model.layers[-3:]:\n",
        "    print(str(i).split('.')[3])"
      ]
    },
    {
      "cell_type": "markdown",
      "id": "34399bcc",
      "metadata": {
        "papermill": {
          "duration": 1.152683,
          "end_time": "2022-05-31T07:25:32.090836",
          "exception": false,
          "start_time": "2022-05-31T07:25:30.938153",
          "status": "completed"
        },
        "tags": [],
        "id": "34399bcc"
      },
      "source": [
        "Теперь мы можем создать нашу CAM-модель. Не забудьте не включать 2D-слой Global Average Pooling, поскольку он не делает ничего лишнего, кроме сжатия пространственного измерения.\n",
        "\n",
        "Итак, мы создаем новую модель с помощью Model и передаем входные данные модели и выходные данные слоев Conv2D и Dense."
      ]
    },
    {
      "cell_type": "code",
      "execution_count": null,
      "id": "c76483a5",
      "metadata": {
        "execution": {
          "iopub.execute_input": "2022-05-31T07:25:34.404111Z",
          "iopub.status.busy": "2022-05-31T07:25:34.403535Z",
          "iopub.status.idle": "2022-05-31T07:25:34.417957Z",
          "shell.execute_reply": "2022-05-31T07:25:34.417107Z"
        },
        "papermill": {
          "duration": 1.175337,
          "end_time": "2022-05-31T07:25:34.420410",
          "exception": false,
          "start_time": "2022-05-31T07:25:33.245073",
          "status": "completed"
        },
        "tags": [],
        "colab": {
          "base_uri": "https://localhost:8080/"
        },
        "id": "c76483a5",
        "outputId": "1c26726a-4048-4c50-f1e7-d49006ed7701"
      },
      "outputs": [
        {
          "output_type": "stream",
          "name": "stdout",
          "text": [
            "Model: \"model\"\n",
            "_________________________________________________________________\n",
            " Layer (type)                Output Shape              Param #   \n",
            "=================================================================\n",
            " conv2d_4_input (InputLayer  [(None, 28, 28, 1)]       0         \n",
            " )                                                               \n",
            "                                                                 \n",
            " conv2d_4 (Conv2D)           (None, 28, 28, 16)        160       \n",
            "                                                                 \n",
            " max_pooling2d_3 (MaxPoolin  (None, 14, 14, 16)        0         \n",
            " g2D)                                                            \n",
            "                                                                 \n",
            " conv2d_5 (Conv2D)           (None, 14, 14, 32)        4640      \n",
            "                                                                 \n",
            " max_pooling2d_4 (MaxPoolin  (None, 7, 7, 32)          0         \n",
            " g2D)                                                            \n",
            "                                                                 \n",
            " conv2d_6 (Conv2D)           (None, 7, 7, 64)          18496     \n",
            "                                                                 \n",
            " max_pooling2d_5 (MaxPoolin  (None, 3, 3, 64)          0         \n",
            " g2D)                                                            \n",
            "                                                                 \n",
            " conv2d_7 (Conv2D)           (None, 3, 3, 128)         73856     \n",
            "                                                                 \n",
            " global_average_pooling2d_1  (None, 128)               0         \n",
            "  (GlobalAveragePooling2D)                                       \n",
            "                                                                 \n",
            " dense_1 (Dense)             (None, 10)                1290      \n",
            "                                                                 \n",
            "=================================================================\n",
            "Total params: 98442 (384.54 KB)\n",
            "Trainable params: 98442 (384.54 KB)\n",
            "Non-trainable params: 0 (0.00 Byte)\n",
            "_________________________________________________________________\n"
          ]
        }
      ],
      "source": [
        "cam_model = Model(inputs=model.input,\n",
        "                 outputs=(model.layers[-3].output,\n",
        "                         model.layers[-1].output))\n",
        "cam_model.summary()"
      ]
    },
    {
      "cell_type": "markdown",
      "id": "4ddeb3f8",
      "metadata": {
        "papermill": {
          "duration": 1.181327,
          "end_time": "2022-05-31T07:25:36.758412",
          "exception": false,
          "start_time": "2022-05-31T07:25:35.577085",
          "status": "completed"
        },
        "tags": [],
        "id": "4ddeb3f8"
      },
      "source": [
        "Теперь используйте эту модель CAM для прогнозирования на тестовом наборе, чтобы сгенерировать характеристики и прогнозируемые проблемы для каждого класса."
      ]
    },
    {
      "cell_type": "code",
      "execution_count": null,
      "id": "1780caea",
      "metadata": {
        "execution": {
          "iopub.execute_input": "2022-05-31T07:25:39.070603Z",
          "iopub.status.busy": "2022-05-31T07:25:39.070241Z",
          "iopub.status.idle": "2022-05-31T07:25:44.502144Z",
          "shell.execute_reply": "2022-05-31T07:25:44.501028Z"
        },
        "papermill": {
          "duration": 6.588748,
          "end_time": "2022-05-31T07:25:44.504991",
          "exception": false,
          "start_time": "2022-05-31T07:25:37.916243",
          "status": "completed"
        },
        "tags": [],
        "colab": {
          "base_uri": "https://localhost:8080/"
        },
        "id": "1780caea",
        "outputId": "dba2b5f4-0fb2-4b0e-8c47-07c49aac7dd6"
      },
      "outputs": [
        {
          "output_type": "stream",
          "name": "stdout",
          "text": [
            "875/875 [==============================] - 7s 8ms/step\n",
            "features shape:  (28000, 3, 3, 128)\n",
            "results shape (28000, 10)\n"
          ]
        }
      ],
      "source": [
        "feats,res = cam_model.predict(x_test)\n",
        "\n",
        "\n",
        "print(\"features shape: \", feats.shape)\n",
        "print(\"results shape\", res.shape)"
      ]
    },
    {
      "cell_type": "markdown",
      "id": "5231853f",
      "metadata": {
        "papermill": {
          "duration": 1.165866,
          "end_time": "2022-05-31T07:25:46.886131",
          "exception": false,
          "start_time": "2022-05-31T07:25:45.720265",
          "status": "completed"
        },
        "tags": [],
        "id": "5231853f"
      },
      "source": [
        "### <b><span style=\"color:#27aee3; font-weight:1200\">※</span> Генерируем CAM с помощью точечного произведения функций активации класса и их весов\n",
        "Чтобы сгенерировать CAM, нам нужно вычислить точечное произведение функций активации класса и весов активации класса.\n",
        "\n",
        "Нам понадобятся веса из глобального среднего уровня объединения (GAP), чтобы рассчитать активацию каждого объекта для определенного класса.\n",
        "\n",
        "Также имейте в виду, что мы получим веса из плотного слоя, который следует за глобальным средним уровнем объединения. Чтобы понять, как это сделать, ознакомьтесь с приведенными ниже пунктами:\n",
        "\n",
        "Последний слой Conv2D имеет размеры (h, w, глубина) (3 x 3 x 128), таким образом, имеется 128 объектов.\n",
        "Слой глобального среднего пула преобразует значения (h, w,глубина) (3 x 3 x 128) в плотный слой из 128 нейронов (по 1 нейрону на объект).\n",
        "Активации из слоя глобального среднего пула передаются на последний плотный слой.\n",
        "Последний плотный слой присваивает веса каждому из этих 128 объектов (для каждого из 10 классов).,\n",
        "Таким образом, веса последнего плотного слоя (который непосредственно следует за глобальным средним уровнем объединения пулов) в этом контексте называются \"весами глобального среднего уровня объединения пулов\"."
      ]
    },
    {
      "cell_type": "code",
      "execution_count": null,
      "id": "fac9a7fa",
      "metadata": {
        "execution": {
          "iopub.execute_input": "2022-05-31T07:25:49.212498Z",
          "iopub.status.busy": "2022-05-31T07:25:49.211807Z",
          "iopub.status.idle": "2022-05-31T07:25:49.218322Z",
          "shell.execute_reply": "2022-05-31T07:25:49.217556Z"
        },
        "papermill": {
          "duration": 1.160901,
          "end_time": "2022-05-31T07:25:49.220461",
          "exception": false,
          "start_time": "2022-05-31T07:25:48.059560",
          "status": "completed"
        },
        "tags": [],
        "colab": {
          "base_uri": "https://localhost:8080/"
        },
        "id": "fac9a7fa",
        "outputId": "f5a846ee-98a4-4f0a-f90e-ecb2aa3432fe"
      },
      "outputs": [
        {
          "output_type": "stream",
          "name": "stdout",
          "text": [
            "(128, 10)\n",
            "(10,)\n"
          ]
        }
      ],
      "source": [
        "last_layer = model.layers[-1]\n",
        "\n",
        "gap_weights_lst = last_layer.get_weights()\n",
        "print(f'{gap_weights_lst[0].shape}\\n{gap_weights_lst[1].shape}')\n",
        "\n",
        "gap_weights = gap_weights_lst[0]"
      ]
    },
    {
      "cell_type": "markdown",
      "id": "ea1ddcf4",
      "metadata": {
        "papermill": {
          "duration": 1.155917,
          "end_time": "2022-05-31T07:25:51.537178",
          "exception": false,
          "start_time": "2022-05-31T07:25:50.381261",
          "status": "completed"
        },
        "tags": [],
        "id": "ea1ddcf4"
      },
      "source": [
        "Now, choose index of any image."
      ]
    },
    {
      "cell_type": "code",
      "execution_count": null,
      "id": "65af29c5",
      "metadata": {
        "execution": {
          "iopub.execute_input": "2022-05-31T07:25:53.843655Z",
          "iopub.status.busy": "2022-05-31T07:25:53.843329Z",
          "iopub.status.idle": "2022-05-31T07:25:53.848945Z",
          "shell.execute_reply": "2022-05-31T07:25:53.848041Z"
        },
        "papermill": {
          "duration": 1.153764,
          "end_time": "2022-05-31T07:25:53.851280",
          "exception": false,
          "start_time": "2022-05-31T07:25:52.697516",
          "status": "completed"
        },
        "tags": [],
        "colab": {
          "base_uri": "https://localhost:8080/"
        },
        "id": "65af29c5",
        "outputId": "a5f8e6c3-c43f-49ee-e5a1-26cc6eded7d7"
      },
      "outputs": [
        {
          "output_type": "stream",
          "name": "stdout",
          "text": [
            "The shape of the image at index 0: (3, 3, 128)\n"
          ]
        }
      ],
      "source": [
        "idx = 0\n",
        "feats_img = feats[idx, :,:,:]\n",
        "print(f'The shape of the image at index {idx}: {feats_img.shape}')"
      ]
    },
    {
      "cell_type": "markdown",
      "id": "40822eba",
      "metadata": {
        "papermill": {
          "duration": 1.157763,
          "end_time": "2022-05-31T07:25:56.162995",
          "exception": false,
          "start_time": "2022-05-31T07:25:55.005232",
          "status": "completed"
        },
        "tags": [],
        "id": "40822eba"
      },
      "source": [
        "Now, the features have height and width of 3 x 3. So, we need to scale them back up to the original image height and width i.e. 28 x 28.\n",
        "\n",
        "We'll do it using **scipy** module."
      ]
    },
    {
      "cell_type": "code",
      "execution_count": null,
      "id": "b903b457",
      "metadata": {
        "execution": {
          "iopub.execute_input": "2022-05-31T07:25:58.535583Z",
          "iopub.status.busy": "2022-05-31T07:25:58.534932Z",
          "iopub.status.idle": "2022-05-31T07:25:58.573181Z",
          "shell.execute_reply": "2022-05-31T07:25:58.572447Z"
        },
        "papermill": {
          "duration": 1.20221,
          "end_time": "2022-05-31T07:25:58.575925",
          "exception": false,
          "start_time": "2022-05-31T07:25:57.373715",
          "status": "completed"
        },
        "tags": [],
        "colab": {
          "base_uri": "https://localhost:8080/"
        },
        "id": "b903b457",
        "outputId": "4fd4e135-2c69-4662-b05c-170c074fc3db"
      },
      "outputs": [
        {
          "output_type": "stream",
          "name": "stdout",
          "text": [
            "(28, 28, 128)\n"
          ]
        }
      ],
      "source": [
        "feats_img_scaled = sp.ndimage.zoom(feats_img,\n",
        "                                  (28/3, 28/3, 1), order=2)\n",
        "\n",
        "print(feats_img_scaled.shape)"
      ]
    },
    {
      "cell_type": "code",
      "execution_count": null,
      "id": "675ce264",
      "metadata": {
        "execution": {
          "iopub.execute_input": "2022-05-31T07:26:00.889472Z",
          "iopub.status.busy": "2022-05-31T07:26:00.889043Z",
          "iopub.status.idle": "2022-05-31T07:26:00.896023Z",
          "shell.execute_reply": "2022-05-31T07:26:00.895261Z"
        },
        "papermill": {
          "duration": 1.162381,
          "end_time": "2022-05-31T07:26:00.898542",
          "exception": false,
          "start_time": "2022-05-31T07:25:59.736161",
          "status": "completed"
        },
        "tags": [],
        "colab": {
          "base_uri": "https://localhost:8080/"
        },
        "id": "675ce264",
        "outputId": "588a16f0-876c-4188-a239-8c1060e4f428"
      },
      "outputs": [
        {
          "output_type": "stream",
          "name": "stdout",
          "text": [
            "features_for_img_scaled has shape  (28, 28, 128)\n",
            "gap_weights_for_one_class has shape  (128,)\n",
            "Class Activation Map shape  (28, 28)\n"
          ]
        }
      ],
      "source": [
        "class_id = 0  # Определение индекса класса для анализа CAM (карты активации класса)\n",
        "gap_weights_for_one_class = gap_weights[:,class_id]  # Извлечение весов GAP для одного класса\n",
        "\n",
        "print(\"features_for_img_scaled has shape \", feats_img_scaled.shape)  # Вывод размерности признаков изображения после масштабирования\n",
        "print(\"gap_weights_for_one_class has shape \", gap_weights_for_one_class.shape)  # Вывод размерности весов GAP для одного класса\n",
        "\n",
        "# Вычисление CAM путем скалярного произведения масштабированных признаков и весов для одного класса\n",
        "cam = np.dot(feats_img_scaled, gap_weights_for_one_class)\n",
        "\n",
        "print(\"Class Activation Map shape \", cam.shape)  # Вывод размерности CAM"
      ]
    },
    {
      "cell_type": "markdown",
      "id": "60635682",
      "metadata": {
        "papermill": {
          "duration": 1.168526,
          "end_time": "2022-05-31T07:26:03.227976",
          "exception": false,
          "start_time": "2022-05-31T07:26:02.059450",
          "status": "completed"
        },
        "tags": [],
        "id": "60635682"
      },
      "source": [
        "### <b><span style=\"color:#27aee3; font-weight:1200\">※</span> Функция карты активации\n",
        "    "
      ]
    },
    {
      "cell_type": "code",
      "execution_count": 44,
      "id": "6a2e4a6c",
      "metadata": {
        "execution": {
          "iopub.execute_input": "2022-05-31T07:26:05.547810Z",
          "iopub.status.busy": "2022-05-31T07:26:05.547357Z",
          "iopub.status.idle": "2022-05-31T07:26:05.555946Z",
          "shell.execute_reply": "2022-05-31T07:26:05.555102Z"
        },
        "papermill": {
          "duration": 1.174597,
          "end_time": "2022-05-31T07:26:05.558225",
          "exception": false,
          "start_time": "2022-05-31T07:26:04.383628",
          "status": "completed"
        },
        "tags": [],
        "id": "6a2e4a6c",
        "colab": {
          "base_uri": "https://localhost:8080/"
        },
        "outputId": "90c96539-d53e-476c-c897-418bbaee54cd"
      },
      "outputs": [
        {
          "output_type": "stream",
          "name": "stdout",
          "text": [
            "features_for_img_scaled has shape  (28, 28, 128)\n",
            "gap_weights_for_one_class has shape  (128,)\n",
            "Class Activation Map shape  (28, 28)\n"
          ]
        }
      ],
      "source": [
        "class_id = 0  # Определение индекса класса для анализа CAM (карты активации класса)\n",
        "gap_weights_for_one_class = gap_weights[:,class_id]  # Извлечение весов GAP для одного класса\n",
        "\n",
        "print(\"features_for_img_scaled has shape \", feats_img_scaled.shape)  # Вывод размерности признаков изображения после масштабирования\n",
        "print(\"gap_weights_for_one_class has shape \", gap_weights_for_one_class.shape)  # Вывод размерности весов GAP для одного класса\n",
        "\n",
        "# Вычисление CAM путем скалярного произведения масштабированных признаков и весов для одного класса\n",
        "cam = np.dot(feats_img_scaled, gap_weights_for_one_class)\n",
        "\n",
        "print(\"Class Activation Map shape \", cam.shape)  # Вывод размерности CAM\n",
        "def show_cam(image_index):  # Определение функции для отображения CAM для выбранного изображения\n",
        "\n",
        "  # Извлечение признаков выбранного изображения\n",
        "  feats_for_img = feats[image_index,:,:,:]\n",
        "\n",
        "  # Получение класса с наибольшей вероятностью вывода\n",
        "  prediction = np.argmax(res[image_index])\n",
        "\n",
        "  # Получение весов GAP для предсказанного класса\n",
        "  class_activation_weights = gap_weights[:, prediction]\n",
        "\n",
        "  # Увеличение признаков до исходного размера изображения (28 x 28)\n",
        "  class_activation_features = sp.ndimage.zoom(feats_for_img, (28/3, 28/3, 1), order=2)\n",
        "\n",
        "  # Вычисление интенсивности каждого признака в CAM\n",
        "  cam_output  = np.dot(class_activation_features,class_activation_weights)\n",
        "\n",
        "  print('Predicted Class = ' +str(prediction)+ ', Probability = ' + str(res[image_index][prediction]))\n",
        "\n",
        "  # Отображение увеличенного изображения\n",
        "  plt.imshow(np.squeeze(x_test[image_index],-1), alpha=0.5)\n",
        "\n",
        "  # Сильно классифицированные (вероятность более 95%) изображения будут зелеными, иначе красными\n",
        "  if res[image_index][prediction]>0.95:\n",
        "    cmap_str = 'Greens'\n",
        "  else:\n",
        "    cmap_str = 'Reds'\n",
        "\n",
        "  # Наложение CAM\n",
        "  plt.imshow(cam_output, cmap=cmap_str, alpha=0.5)\n",
        "\n",
        "  # Отображение изображения\n",
        "  plt.show()"
      ]
    },
    {
      "cell_type": "code",
      "execution_count": 45,
      "id": "57e1f161",
      "metadata": {
        "execution": {
          "iopub.execute_input": "2022-05-31T07:26:07.896209Z",
          "iopub.status.busy": "2022-05-31T07:26:07.895672Z",
          "iopub.status.idle": "2022-05-31T07:26:07.900520Z",
          "shell.execute_reply": "2022-05-31T07:26:07.899931Z"
        },
        "papermill": {
          "duration": 1.171919,
          "end_time": "2022-05-31T07:26:07.902475",
          "exception": false,
          "start_time": "2022-05-31T07:26:06.730556",
          "status": "completed"
        },
        "tags": [],
        "id": "57e1f161"
      },
      "outputs": [],
      "source": [
        "def show_maps(desired_class, num_maps):  # Определение функции для отображения CAM для указанного класса и количества карт\n",
        "\n",
        "    counter = 0  # Инициализация счетчика карт\n",
        "\n",
        "    for i in range(0,10000):  # Цикл по всем изображениям в наборе данных (10000 изображений)\n",
        "\n",
        "        # Прерывание, если уже отображено указанное количество карт\n",
        "        if counter == num_maps:\n",
        "            break\n",
        "\n",
        "        # Отображение изображений, которые соответствуют указанному классу\n",
        "        if np.argmax(res[i]) == desired_class:\n",
        "            counter += 1\n",
        "            show_cam(i)  # Вызов функции отображения CAM для текущего изображения\n"
      ]
    },
    {
      "cell_type": "code",
      "execution_count": 51,
      "id": "d3ce1cb0",
      "metadata": {
        "execution": {
          "iopub.execute_input": "2022-05-31T07:26:10.312745Z",
          "iopub.status.busy": "2022-05-31T07:26:10.312207Z",
          "iopub.status.idle": "2022-05-31T07:26:12.408846Z",
          "shell.execute_reply": "2022-05-31T07:26:12.407502Z"
        },
        "papermill": {
          "duration": 3.290428,
          "end_time": "2022-05-31T07:26:12.411466",
          "exception": false,
          "start_time": "2022-05-31T07:26:09.121038",
          "status": "completed"
        },
        "tags": [],
        "colab": {
          "base_uri": "https://localhost:8080/",
          "height": 1000
        },
        "id": "d3ce1cb0",
        "outputId": "15b0cd76-714f-4c62-ee9e-34de97038aaa"
      },
      "outputs": [
        {
          "output_type": "stream",
          "name": "stdout",
          "text": [
            "Predicted Class = 2, Probability = 0.9999998\n"
          ]
        },
        {
          "output_type": "display_data",
          "data": {
            "text/plain": [
              "<Figure size 640x480 with 1 Axes>"
            ],
            "image/png": "[encoded data removed]"
          },
          "metadata": {}
        },
        {
          "output_type": "stream",
          "name": "stdout",
          "text": [
            "Predicted Class = 2, Probability = 0.99999636\n"
          ]
        },
        {
          "output_type": "display_data",
          "data": {
            "text/plain": [
              "<Figure size 640x480 with 1 Axes>"
            ],
            "image/png": "[encoded data removed]"
          },
          "metadata": {}
        },
        {
          "output_type": "stream",
          "name": "stdout",
          "text": [
            "Predicted Class = 2, Probability = 0.99982095\n"
          ]
        },
        {
          "output_type": "display_data",
          "data": {
            "text/plain": [
              "<Figure size 640x480 with 1 Axes>"
            ],
            "image/png": "[encoded data removed]"
          },
          "metadata": {}
        },
        {
          "output_type": "stream",
          "name": "stdout",
          "text": [
            "Predicted Class = 2, Probability = 0.9997637\n"
          ]
        },
        {
          "output_type": "display_data",
          "data": {
            "text/plain": [
              "<Figure size 640x480 with 1 Axes>"
            ],
            "image/png": "[encoded data removed]"
          },
          "metadata": {}
        },
        {
          "output_type": "stream",
          "name": "stdout",
          "text": [
            "Predicted Class = 2, Probability = 0.9845733\n"
          ]
        },
        {
          "output_type": "display_data",
          "data": {
            "text/plain": [
              "<Figure size 640x480 with 1 Axes>"
            ],
            "image/png": "[encoded data removed]"
          },
          "metadata": {}
        },
        {
          "output_type": "stream",
          "name": "stdout",
          "text": [
            "Predicted Class = 2, Probability = 0.9999425\n"
          ]
        },
        {
          "output_type": "display_data",
          "data": {
            "text/plain": [
              "<Figure size 640x480 with 1 Axes>"
            ],
            "image/png": "[encoded data removed]"
          },
          "metadata": {}
        },
        {
          "output_type": "stream",
          "name": "stdout",
          "text": [
            "Predicted Class = 2, Probability = 0.9997308\n"
          ]
        },
        {
          "output_type": "display_data",
          "data": {
            "text/plain": [
              "<Figure size 640x480 with 1 Axes>"
            ],
            "image/png": "[encoded data removed]"
          },
          "metadata": {}
        },
        {
          "output_type": "stream",
          "name": "stdout",
          "text": [
            "Predicted Class = 2, Probability = 0.96485907\n"
          ]
        },
        {
          "output_type": "display_data",
          "data": {
            "text/plain": [
              "<Figure size 640x480 with 1 Axes>"
            ],
            "image/png": "[encoded data removed]"
          },
          "metadata": {}
        },
        {
          "output_type": "stream",
          "name": "stdout",
          "text": [
            "Predicted Class = 2, Probability = 0.99836886\n"
          ]
        },
        {
          "output_type": "display_data",
          "data": {
            "text/plain": [
              "<Figure size 640x480 with 1 Axes>"
            ],
            "image/png": "[encoded data removed]"
          },
          "metadata": {}
        },
        {
          "output_type": "stream",
          "name": "stdout",
          "text": [
            "Predicted Class = 2, Probability = 0.9996855\n"
          ]
        },
        {
          "output_type": "display_data",
          "data": {
            "text/plain": [
              "<Figure size 640x480 with 1 Axes>"
            ],
            "image/png": "[encoded data removed]"
          },
          "metadata": {}
        }
      ],
      "source": [
        "show_maps(2, 10)"
      ]
    }
  ],
  "metadata": {
    "kernelspec": {
      "display_name": "Python 3",
      "language": "python",
      "name": "python3"
    },
    "language_info": {
      "codemirror_mode": {
        "name": "ipython",
        "version": 3
      },
      "file_extension": ".py",
      "mimetype": "text/x-python",
      "name": "python",
      "nbconvert_exporter": "python",
      "pygments_lexer": "ipython3",
      "version": "3.7.12"
    },
    "papermill": {
      "default_parameters": {},
      "duration": 414.588311,
      "end_time": "2022-05-31T07:26:19.263531",
      "environment_variables": {},
      "exception": null,
      "input_path": "__notebook__.ipynb",
      "output_path": "__notebook__.ipynb",
      "parameters": {},
      "start_time": "2022-05-31T07:19:24.675220",
      "version": "2.3.4"
    },
    "colab": {
      "provenance": []
    }
  },
  "nbformat": 4,
  "nbformat_minor": 5
}